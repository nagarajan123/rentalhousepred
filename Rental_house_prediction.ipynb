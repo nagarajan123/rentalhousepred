{
 "cells": [
  {
   "cell_type": "markdown",
   "id": "4cc6eaee",
   "metadata": {},
   "source": [
    "__Start with importing the necessary packages__"
   ]
  },
  {
   "cell_type": "code",
   "execution_count": null,
   "id": "21f10364",
   "metadata": {},
   "outputs": [],
   "source": [
    "import pandas as pd\n",
    "from numpy import percentile,quantile\n",
    "import numpy as np\n",
    "import seaborn as sns\n",
    "import matplotlib.pyplot as plt\n",
    "%matplotlib inline"
   ]
  },
  {
   "cell_type": "code",
   "execution_count": null,
   "id": "d4d7989b",
   "metadata": {},
   "outputs": [],
   "source": [
    "# Read the train and test datasets to dataframes \n",
    "df = pd.read_csv(\"train.csv\")\n",
    "df_test = pd.read_csv(\"test.csv\")"
   ]
  },
  {
   "cell_type": "code",
   "execution_count": null,
   "id": "870a3a0d",
   "metadata": {},
   "outputs": [],
   "source": [
    "#Display the maximum number of columsn using pandas package\n",
    "pd.set_option(\"display.max_columns\",500)"
   ]
  },
  {
   "cell_type": "code",
   "execution_count": null,
   "id": "777c53f7",
   "metadata": {},
   "outputs": [],
   "source": [
    "#Read the first 5 rows of df\n",
    "df.head(5)"
   ]
  },
  {
   "cell_type": "code",
   "execution_count": null,
   "id": "91ce2094",
   "metadata": {},
   "outputs": [],
   "source": [
    "#Read the first 2 rows of test dataset\n",
    "df_test.head(2)"
   ]
  },
  {
   "cell_type": "code",
   "execution_count": null,
   "id": "fa189d8f",
   "metadata": {},
   "outputs": [],
   "source": [
    "# Read the columns present in the dataset\n",
    "df.columns"
   ]
  },
  {
   "cell_type": "code",
   "execution_count": null,
   "id": "e191eca2",
   "metadata": {},
   "outputs": [],
   "source": [
    "#Print the datatypes for feature values in the dataset\n",
    "df.dtypes"
   ]
  },
  {
   "cell_type": "code",
   "execution_count": null,
   "id": "a06a9111",
   "metadata": {},
   "outputs": [],
   "source": [
    "df.shape"
   ]
  },
  {
   "cell_type": "code",
   "execution_count": null,
   "id": "6ed58c90",
   "metadata": {},
   "outputs": [],
   "source": [
    "#Print the numeric/float features and object/string type variables\n",
    "\n",
    "num_cols = [feature for feature in df.columns if df[feature].dtypes!='O']\n",
    "cat_cols = [feature for feature in df.columns if df[feature].dtypes=='O']"
   ]
  },
  {
   "cell_type": "code",
   "execution_count": null,
   "id": "0541e6db",
   "metadata": {},
   "outputs": [],
   "source": [
    "print(\"The numeric columns are : {}\".format(num_cols)+\"\\n\"*2+\"The categorical columns are : {}\".format(cat_cols))"
   ]
  },
  {
   "cell_type": "markdown",
   "id": "9dcb6150",
   "metadata": {},
   "source": [
    "*Describe about the numerical columns using 5 point stats*"
   ]
  },
  {
   "cell_type": "code",
   "execution_count": null,
   "id": "fe2bb8c3",
   "metadata": {},
   "outputs": [],
   "source": [
    "df[num_cols].describe().T"
   ]
  },
  {
   "cell_type": "markdown",
   "id": "173a6759",
   "metadata": {},
   "source": [
    "*Describe about the categorical variables*"
   ]
  },
  {
   "cell_type": "code",
   "execution_count": null,
   "id": "6a564631",
   "metadata": {},
   "outputs": [],
   "source": [
    "df[cat_cols].describe().T"
   ]
  },
  {
   "cell_type": "markdown",
   "id": "965026b5",
   "metadata": {},
   "source": [
    "*Check for any NaN values present in the dataset*"
   ]
  },
  {
   "cell_type": "code",
   "execution_count": null,
   "id": "a65c799f",
   "metadata": {},
   "outputs": [],
   "source": [
    "plt.figure(figsize=(10,10))\n",
    "sns.heatmap(df.isnull(),cmap=\"viridis\")"
   ]
  },
  {
   "cell_type": "code",
   "execution_count": null,
   "id": "0c57d246",
   "metadata": {},
   "outputs": [],
   "source": [
    "df.isnull().sum()"
   ]
  },
  {
   "cell_type": "markdown",
   "id": "8b3ffdc9",
   "metadata": {},
   "source": [
    "_Print the unique categories count in numeric variables_"
   ]
  },
  {
   "cell_type": "code",
   "execution_count": null,
   "id": "6176c4ea",
   "metadata": {},
   "outputs": [],
   "source": [
    "l1,l2=list(),list()\n",
    "for ele in num_cols:\n",
    "    l1.append(ele)\n",
    "    l2.append(len(df[ele].unique()))\n",
    "dict1 = {'Numeric_column':l1,\"Count_of_unique_vals\":l2}\n",
    "num_uniq = pd.DataFrame(dict1)\n",
    "num_uniq"
   ]
  },
  {
   "cell_type": "code",
   "execution_count": null,
   "id": "4393a7fe",
   "metadata": {},
   "outputs": [],
   "source": [
    "#Print the unique values for those numerical features where their respective count is <=10 in dataset\n",
    "my_dict = {ele:list(df[ele].unique()) for ele in num_cols }\n",
    "new_dict = {}\n",
    "for (k,v) in my_dict.items():\n",
    "    if len(v)<=10:\n",
    "        new_dict[k]=v\n",
    "print(new_dict)"
   ]
  },
  {
   "cell_type": "code",
   "execution_count": null,
   "id": "022afdd0",
   "metadata": {},
   "outputs": [],
   "source": [
    "for ele in num_cols:\n",
    "    print(\"The no. of unique value counts in\"+\"\\n\" + \"{} are : {}\".format(ele,df[ele].value_counts()))"
   ]
  },
  {
   "cell_type": "markdown",
   "id": "01d081cf",
   "metadata": {},
   "source": [
    "*It seems like there are some outlier values with respect to the numerical feature values*"
   ]
  },
  {
   "cell_type": "code",
   "execution_count": null,
   "id": "98cb42b3",
   "metadata": {},
   "outputs": [],
   "source": [
    "#EDA\n",
    "def plot_distplot(val):\n",
    "    plt.figure(figsize=(10,10))\n",
    "    sns.distplot(val,hist=True,kde=True,color=\"blue\")\n",
    "    plt.show()"
   ]
  },
  {
   "cell_type": "code",
   "execution_count": null,
   "id": "8c84d884",
   "metadata": {},
   "outputs": [],
   "source": [
    "for ele in num_cols:\n",
    "    plot_distplot(df[ele])"
   ]
  },
  {
   "cell_type": "markdown",
   "id": "417ee4e8",
   "metadata": {},
   "source": [
    "**After analysis the value counts for each numerical features we drop some rows \n",
    "with unrealistic values for those features** "
   ]
  },
  {
   "cell_type": "code",
   "execution_count": null,
   "id": "e82ce8a9",
   "metadata": {},
   "outputs": [],
   "source": [
    "new_df = df.copy()"
   ]
  },
  {
   "cell_type": "code",
   "execution_count": null,
   "id": "023a1d37",
   "metadata": {},
   "outputs": [],
   "source": [
    "new_df.drop(list(new_df[new_df[\"bathrooms\"]>3].index),axis=0,inplace=True)\n",
    "new_df.drop(list(new_df[new_df[\"bedroom\"]>4].index),axis=0,inplace=True)"
   ]
  },
  {
   "cell_type": "code",
   "execution_count": null,
   "id": "8db5fc67",
   "metadata": {},
   "outputs": [],
   "source": [
    "new_df.shape"
   ]
  },
  {
   "cell_type": "code",
   "execution_count": null,
   "id": "ac87c4b8",
   "metadata": {},
   "outputs": [],
   "source": [
    "plt.figure(figsize=(20,10))\n",
    "sns.distplot(new_df.area,color=\"red\",kde=True)\n",
    "plt.xticks(rotation=90)"
   ]
  },
  {
   "cell_type": "code",
   "execution_count": null,
   "id": "a498c9c6",
   "metadata": {},
   "outputs": [],
   "source": [
    "# Extreme point 3 std away from mean considered as upper limit\n",
    "upper_limit = np.mean(df.area)+3*np.std(df.area)\n",
    "lower_limit = np.percentile(df.area,45)\n",
    "print(lower_limit,upper_limit)"
   ]
  },
  {
   "cell_type": "code",
   "execution_count": null,
   "id": "e7b17812",
   "metadata": {},
   "outputs": [],
   "source": [
    "new_df = new_df[(new_df[\"area\"]>lower_limit) & (new_df[\"area\"]<upper_limit)]\n",
    "new_df.shape"
   ]
  },
  {
   "cell_type": "code",
   "execution_count": null,
   "id": "6d0fd58c",
   "metadata": {},
   "outputs": [],
   "source": [
    "upper_limit = np.percentile(df.aggDur,95)\n",
    "lower_limit = 1\n",
    "new_df = new_df[(new_df.aggDur>=1) &(new_df.aggDur<upper_limit)]\n",
    "new_df.shape"
   ]
  },
  {
   "cell_type": "code",
   "execution_count": null,
   "id": "4f8a46dd",
   "metadata": {},
   "outputs": [],
   "source": [
    "upper_limit = np.mean(new_df.deposit_amt)+3*np.std(new_df.deposit_amt)\n",
    "lower_limit = 1100\n",
    "print(lower_limit,upper_limit)\n",
    "new_df=new_df[(new_df.deposit_amt>1100) & (new_df.deposit_amt<upper_limit)]\n",
    "new_df.shape"
   ]
  },
  {
   "cell_type": "code",
   "execution_count": null,
   "id": "b77b053c",
   "metadata": {},
   "outputs": [],
   "source": [
    "new_df[\"total_rooms\"]=0\n",
    "rooms = [ele for ele in new_df.columns if \"room\" in ele]\n",
    "new_df[\"total_rooms\"] = new_df[\"bedroom\"]+new_df[\"bathrooms\"]+new_df[\"no_room\"]+new_df[\"pooja_room\"]+\\\n",
    "                        new_df[\"study_room\"]+new_df[\"store_room\"]+new_df[\"servant_room\"]\n",
    "rooms.remove(\"total_rooms\")\n",
    "new_df.drop(rooms,axis=1,inplace=True)\n",
    "new_df.shape"
   ]
  },
  {
   "cell_type": "code",
   "execution_count": null,
   "id": "35d82710",
   "metadata": {},
   "outputs": [],
   "source": [
    "plt.figure(figsize=(20,10))\n",
    "sns.boxplot(x=new_df.total_rooms,y=new_df.rent,orient=\"v\",palette=\"rainbow\")\n"
   ]
  },
  {
   "cell_type": "code",
   "execution_count": null,
   "id": "ea54fdb2",
   "metadata": {},
   "outputs": [],
   "source": [
    "plt.figure(figsize=(20,10))\n",
    "sns.boxplot(x=new_df.aggDur,y=new_df.rent,orient=\"v\",palette=\"winter\")\n"
   ]
  },
  {
   "cell_type": "code",
   "execution_count": null,
   "id": "2e8f660b",
   "metadata": {},
   "outputs": [],
   "source": [
    "plt.figure(figsize=(20,20))\n",
    "sns.boxplot(x=new_df.deposit_amt,orient=\"v\",palette=\"magma\")\n",
    "plt.xticks(rotation=80)"
   ]
  },
  {
   "cell_type": "code",
   "execution_count": null,
   "id": "564f256e",
   "metadata": {},
   "outputs": [],
   "source": [
    "plt.figure(figsize=(10,10))\n",
    "plt.hist(new_df.deposit_amt,bins=100,color=\"red\")"
   ]
  },
  {
   "cell_type": "code",
   "execution_count": null,
   "id": "351217d0",
   "metadata": {},
   "outputs": [],
   "source": [
    "plt.figure(figsize=(5,5))\n",
    "sns.boxplot(new_df.deposit_amt,orient=\"v\",color=\"orange\")"
   ]
  },
  {
   "cell_type": "code",
   "execution_count": null,
   "id": "78925545",
   "metadata": {},
   "outputs": [],
   "source": [
    "plt.figure(figsize=(10,10))\n",
    "plt.hist(new_df[\"mnt_amt\"],bins=50,color=\"green\")"
   ]
  },
  {
   "cell_type": "code",
   "execution_count": null,
   "id": "8ff7b96c",
   "metadata": {},
   "outputs": [],
   "source": [
    "plt.figure(figsize=(20,10))\n",
    "sns.boxplot(x=new_df.mnt_amt,orient=\"v\",color=\"purple\")\n",
    "plt.xticks(rotation=60)"
   ]
  },
  {
   "cell_type": "code",
   "execution_count": null,
   "id": "c6c8ed4d",
   "metadata": {},
   "outputs": [],
   "source": [
    "plt.figure(figsize=(20,20))\n",
    "sns.countplot(x=new_df.furnishing,hue=new_df.petfacility,orient=\"v\",palette=\"rainbow\")\n",
    "plt.xticks(rotation=30)"
   ]
  },
  {
   "cell_type": "code",
   "execution_count": null,
   "id": "63f7594e",
   "metadata": {},
   "outputs": [],
   "source": [
    "plt.figure(figsize=(10,10))\n",
    "sns.distplot(new_df.rent,color=\"violet\",bins=100,kde=True)"
   ]
  },
  {
   "cell_type": "code",
   "execution_count": null,
   "id": "da702f22",
   "metadata": {},
   "outputs": [],
   "source": [
    "lower_limit = np.mean(new_df.rent) - 2*np.std(new_df.rent)\n",
    "upper_limit = np.mean(new_df.rent) + 2*np.std(new_df.rent)\n",
    "print(lower_limit,upper_limit)\n",
    "new_df = new_df[(new_df.rent>lower_limit) & (new_df.rent<upper_limit)]\n",
    "new_df.shape"
   ]
  },
  {
   "cell_type": "code",
   "execution_count": null,
   "id": "4a48f877",
   "metadata": {},
   "outputs": [],
   "source": [
    "plt.figure(figsize=(10,10))\n",
    "sns.heatmap(new_df.corr(),vmax=1,vmin=-1,annot=True,cmap=\"viridis\")"
   ]
  },
  {
   "cell_type": "code",
   "execution_count": null,
   "id": "ffe70342",
   "metadata": {},
   "outputs": [],
   "source": [
    "corrmat = new_df.corr()\n",
    "corrmat"
   ]
  },
  {
   "cell_type": "code",
   "execution_count": null,
   "id": "0e7edbf8",
   "metadata": {},
   "outputs": [],
   "source": [
    "l1,l2=list(),list()\n",
    "for ele in new_df.columns:\n",
    "    l1.append(ele)\n",
    "    l2.append(len(new_df[ele].unique()))\n",
    "dict1 = {'Numeric_column':l1,\"Count_of_unique_vals\":l2}\n",
    "num_uniq = pd.DataFrame(dict1)\n",
    "num_uniq"
   ]
  },
  {
   "cell_type": "markdown",
   "id": "07121b66",
   "metadata": {},
   "source": [
    "## for ele in cat_cols:\n",
    "    print(\"\\n{} has these many values\\n {}\\n\".format(ele,new_df[ele].value_counts()))"
   ]
  },
  {
   "cell_type": "code",
   "execution_count": null,
   "id": "4a69f343",
   "metadata": {},
   "outputs": [],
   "source": [
    "#new_df = new_df.drop([\"address\"],axis=1)\n",
    "address_list = list(new_df[\"address\"].values)\n",
    "address_list[0]\n",
    "loc_list=[]\n",
    "for ele in address_list:\n",
    "    loc_list.append(ele.split(\",\")[1].lstrip())\n",
    "new_df[\"location\"] = np.array(loc_list)\n",
    "new_df.drop([\"address\"],axis=1,inplace=True)"
   ]
  },
  {
   "cell_type": "code",
   "execution_count": null,
   "id": "ac3ceb19",
   "metadata": {},
   "outputs": [],
   "source": [
    "new_df[\"facing\"].replace(to_replace=\"No Direction\",value=df[\"facing\"].mode()[0],inplace=True)\n",
    "new_df[\"propertyage\"].replace(to_replace=\"NO age\",value=df[\"propertyage\"].mode()[0],inplace=True)"
   ]
  },
  {
   "cell_type": "code",
   "execution_count": null,
   "id": "c0010adb",
   "metadata": {},
   "outputs": [],
   "source": [
    "#Graph based statistics for categorical features\n",
    "print(cat_cols)"
   ]
  },
  {
   "cell_type": "code",
   "execution_count": null,
   "id": "ca653556",
   "metadata": {},
   "outputs": [],
   "source": [
    "plt.figure(figsize=(10,10))\n",
    "sns.countplot(new_df.furnishing,palette=\"viridis\",hue=new_df.avalable_for)"
   ]
  },
  {
   "cell_type": "code",
   "execution_count": null,
   "id": "47919f96",
   "metadata": {},
   "outputs": [],
   "source": [
    "plt.figure(figsize=(10,10))\n",
    "sns.countplot(new_df.facing,palette=\"winter\",hue=new_df.avalable_for)"
   ]
  },
  {
   "cell_type": "code",
   "execution_count": null,
   "id": "b48c43c6",
   "metadata": {},
   "outputs": [],
   "source": [
    "plt.figure(figsize=(10,10))\n",
    "sns.countplot(new_df.floor_type,palette=\"copper\",orient=\"v\",hue=new_df.furnishing)\n",
    "plt.xticks(rotation=45)"
   ]
  },
  {
   "cell_type": "code",
   "execution_count": null,
   "id": "e27848ea",
   "metadata": {},
   "outputs": [],
   "source": [
    "plt.figure(figsize=(10,10))\n",
    "sns.countplot(new_df.propertyage,palette=\"summer\",hue=new_df.furnishing)"
   ]
  },
  {
   "cell_type": "code",
   "execution_count": null,
   "id": "73f49891",
   "metadata": {},
   "outputs": [],
   "source": [
    "plt.figure(figsize=(20,20))\n",
    "sns.countplot(new_df.location,palette=\"spring\",orient=\"h\")\n",
    "plt.xticks(rotation=80)"
   ]
  },
  {
   "cell_type": "code",
   "execution_count": null,
   "id": "3042565e",
   "metadata": {},
   "outputs": [],
   "source": [
    "plt.figure(figsize=(10,10))\n",
    "sns.countplot(new_df.avalable_for,palette=\"spring\",hue=new_df.furnishing,orient=\"h\")\n",
    "plt.xticks(rotation=45)"
   ]
  },
  {
   "cell_type": "code",
   "execution_count": null,
   "id": "3c4dd9e4",
   "metadata": {},
   "outputs": [],
   "source": [
    "plt.figure(figsize=(10,10))\n",
    "sns.countplot(new_df.avalable_for,palette=\"magma\",hue=new_df.gate_community)\n",
    "plt.xticks(rotation=45)"
   ]
  },
  {
   "cell_type": "code",
   "execution_count": null,
   "id": "794dce1a",
   "metadata": {},
   "outputs": [],
   "source": [
    "plt.figure(figsize=(10,10))\n",
    "sns.countplot(new_df.avalable_for,palette=\"cividis\",hue=new_df.petfacility)\n",
    "plt.xticks(rotation=30)"
   ]
  },
  {
   "cell_type": "code",
   "execution_count": null,
   "id": "31d8e04c",
   "metadata": {},
   "outputs": [],
   "source": [
    "new_df[\"facing\"] = new_df[\"facing\"].replace(to_replace=[\"South-East\"],value=[\"South\"],inplace=True)\n",
    "new_df[\"facing\"] = new_df[\"facing\"].replace(to_replace=[\"South-West\"],value=[\"South\"],inplace=True)\n",
    "new_df[\"facing\"] = new_df[\"facing\"].replace(to_replace=[\"North-East\"],value=[\"North\"],inplace=True)\n",
    "new_df[\"facing\"] = new_df[\"facing\"].replace(to_replace=[\"North-West\"],value=[\"North\"],inplace=True)"
   ]
  },
  {
   "cell_type": "code",
   "execution_count": null,
   "id": "495eab92",
   "metadata": {},
   "outputs": [],
   "source": [
    "new_df.facing.value_counts()"
   ]
  },
  {
   "cell_type": "code",
   "execution_count": null,
   "id": "6c454b38",
   "metadata": {},
   "outputs": [],
   "source": [
    "new_df[\"floor_type\"] = new_df[\"floor_type\"].replace(to_replace=\"Not provided\",\n",
    "                                                    value=new_df[\"floor_type\"].mode()[0],inplace=True)"
   ]
  },
  {
   "cell_type": "code",
   "execution_count": null,
   "id": "8b7458b3",
   "metadata": {},
   "outputs": [],
   "source": [
    "new_df.location.value_counts()[:15]"
   ]
  },
  {
   "cell_type": "code",
   "execution_count": null,
   "id": "8690b598",
   "metadata": {},
   "outputs": [],
   "source": [
    "loc_mean = new_df.groupby(new_df.location)[\"rent\"].mean()\n",
    "#print(loc_mean.values)\n",
    "l1,l2 = list(loc_mean.index),list(loc_mean.values)\n",
    "new_df[\"location_encoded\"] = new_df[\"location\"].replace(to_replace=l1,value=l2)\n",
    "new_df.location_encoded.head(5)"
   ]
  },
  {
   "cell_type": "code",
   "execution_count": null,
   "id": "ec0748b4",
   "metadata": {},
   "outputs": [],
   "source": [
    "new_df.drop(\"location\",axis=1,inplace=True)\n",
    "new_df_copy = new_df.copy()"
   ]
  },
  {
   "cell_type": "code",
   "execution_count": null,
   "id": "d004079c",
   "metadata": {},
   "outputs": [],
   "source": [
    "directions ={\"East\":1,\"West\":2,\"North\":3,\"South\":4}\n",
    "new_df_copy[\"facing\"] = new_df_copy[\"facing\"].map(directions)"
   ]
  },
  {
   "cell_type": "code",
   "execution_count": null,
   "id": "76481976",
   "metadata": {},
   "outputs": [],
   "source": [
    "# Frequency encoding for Monthly Amount Feature \n",
    "fe = new_df_copy.groupby('mnt_amt').size()/len(new_df_copy)\n",
    "new_df_copy[\"mnt_amt_encoded\"] = new_df_copy[\"mnt_amt\"].map(fe)\n",
    "new_df_copy.drop([\"mnt_amt\"],axis=1,inplace=True)\n",
    "new_df_copy.head(4)"
   ]
  },
  {
   "cell_type": "code",
   "execution_count": null,
   "id": "d1498275",
   "metadata": {},
   "outputs": [],
   "source": [
    "# Import label encoder\n",
    "from sklearn import preprocessing\n",
    "  \n",
    "# label_encoder object knows how to understand word labels.\n",
    "label_encoder = preprocessing.LabelEncoder()\n",
    "  \n",
    "# Encode labels in column 'floor_type' and maintenance_amount features.\n",
    "new_df_copy['floor_type']= label_encoder.fit_transform(new_df_copy['floor_type'])\n",
    "new_df_copy['maintenance_amt']= label_encoder.fit_transform(new_df_copy['maintenance_amt'])  "
   ]
  },
  {
   "cell_type": "code",
   "execution_count": null,
   "id": "ba0834d0",
   "metadata": {},
   "outputs": [],
   "source": [
    "dict2 = {\"Unfurnished\":0,\"Semifurnished\":1,\"Furnished\":2}\n",
    "new_df_copy[\"furnishing\"] = new_df_copy[\"furnishing\"].map(dict2)\n",
    "new_df_copy.furnishing.head(3)"
   ]
  },
  {
   "cell_type": "code",
   "execution_count": null,
   "id": "42d10bc7",
   "metadata": {},
   "outputs": [],
   "source": [
    "# Frequency encoding for Available_for Feature \n",
    "fe = new_df_copy.groupby('avalable_for').size()/len(new_df_copy)\n",
    "new_df_copy[\"avalable_for_encoded\"] = new_df_copy[\"avalable_for\"].map(fe)\n",
    "new_df_copy.drop([\"avalable_for\"],axis=1,inplace=True)\n",
    "new_df_copy.head(4)"
   ]
  },
  {
   "cell_type": "code",
   "execution_count": null,
   "id": "90cfc617",
   "metadata": {},
   "outputs": [],
   "source": [
    "#Label encoding for features like gate_community,pet facility,wheel chair availability and corner_pro\n",
    "dict3 = {'Yes':1,\"No\":0,\"None\":0}\n",
    "new_df_copy[\"gate_community\"] = new_df_copy[\"gate_community\"].map(dict3)\n",
    "new_df_copy[\"corner_pro\"] = new_df_copy[\"corner_pro\"].map(dict3)\n",
    "new_df_copy[\"wheelchairadption\"] = new_df_copy[\"wheelchairadption\"].map(dict3)\n",
    "new_df_copy[\"petfacility\"] = new_df_copy[\"petfacility\"].map(dict3)\n",
    "new_df_copy.head(3)"
   ]
  },
  {
   "cell_type": "code",
   "execution_count": null,
   "id": "e5318a0d",
   "metadata": {},
   "outputs": [],
   "source": [
    "#new_df_copy.propertyage.value_counts()\n",
    "dict1 = {\n",
    "    \"Under Construction\":0,\n",
    "    \"0 to 1 Year Old\":1,\n",
    "    \"1 to 5 Year Old\":2,\n",
    "    \"5 to 10 Year Old\":3,\n",
    "    \"10+ Year Old\":4\n",
    "}\n",
    "new_df_copy.propertyage = new_df_copy.propertyage.map(dict1)\n",
    "new_df_copy.head(5)"
   ]
  },
  {
   "cell_type": "code",
   "execution_count": null,
   "id": "7384c49a",
   "metadata": {},
   "outputs": [],
   "source": [
    "sns.distplot(np.log(new_df_copy.deposit_amt))\n",
    "new_df_copy[\"deposit_amt\"] = np.log(new_df_copy.deposit_amt)\n",
    "new_df_copy.deposit_amt.head(5)"
   ]
  },
  {
   "cell_type": "code",
   "execution_count": null,
   "id": "bb7051ed",
   "metadata": {},
   "outputs": [],
   "source": [
    "new_df_copy.reset_index(inplace=True)\n",
    "new_df_copy.head()"
   ]
  },
  {
   "cell_type": "code",
   "execution_count": null,
   "id": "8805348d",
   "metadata": {},
   "outputs": [],
   "source": [
    "new_df_copy.drop([\"index\"],inplace=True,axis=1)"
   ]
  },
  {
   "cell_type": "code",
   "execution_count": null,
   "id": "574001a1",
   "metadata": {},
   "outputs": [],
   "source": [
    "final_df = new_df_copy.copy()\n",
    "final_csv =final_df.to_csv(\"Final_processed_dataset.csv\")"
   ]
  },
  {
   "cell_type": "code",
   "execution_count": null,
   "id": "f803e268",
   "metadata": {},
   "outputs": [],
   "source": [
    "# MinMax Scaler is used for normalizing the feature space\n",
    "from sklearn.preprocessing import MinMaxScaler\n",
    "scaler = MinMaxScaler()\n",
    "scaled_data = scaler.fit_transform(new_df_copy)"
   ]
  },
  {
   "cell_type": "code",
   "execution_count": null,
   "id": "433414e9",
   "metadata": {},
   "outputs": [],
   "source": [
    "scaled_df = pd.DataFrame(data=scaled_data,columns=new_df_copy.columns)\n",
    "scaled_df.head()"
   ]
  },
  {
   "cell_type": "code",
   "execution_count": null,
   "id": "5e20db1b",
   "metadata": {},
   "outputs": [],
   "source": [
    "X_train = scaled_df.drop([\"rent\"],axis=1)\n",
    "X_train.head(3)"
   ]
  },
  {
   "cell_type": "code",
   "execution_count": null,
   "id": "3c7af5e1",
   "metadata": {},
   "outputs": [],
   "source": [
    "y_train = scaled_df.loc[:,\"rent\"]\n",
    "y_train.head()"
   ]
  },
  {
   "cell_type": "code",
   "execution_count": null,
   "id": "00cfb732",
   "metadata": {},
   "outputs": [],
   "source": [
    "#Faking the train_test_split on the training data itself and perform model creation\n",
    "from sklearn.model_selection import train_test_split\n",
    "from sklearn.metrics import accuracy_score,r2_score,mean_squared_error,mean_absolute_error\n",
    "from sklearn.linear_model import LinearRegression\n",
    "from sklearn.tree import DecisionTreeRegressor\n",
    "from sklearn.ensemble import RandomForestRegressor\n",
    "from sklearn.linear_model import Ridge"
   ]
  },
  {
   "cell_type": "code",
   "execution_count": null,
   "id": "85cf346e",
   "metadata": {},
   "outputs": [],
   "source": [
    "X_train1,X_test1,y_train1,y_test1 = train_test_split(X_train,y_train,test_size=0.3,random_state=0)\n",
    "\n",
    "dt_reg = DecisionTreeRegressor()"
   ]
  },
  {
   "cell_type": "code",
   "execution_count": null,
   "id": "69345245",
   "metadata": {},
   "outputs": [],
   "source": [
    "lin_reg = LinearRegression()\n",
    "lin_reg.fit(X_train1,y_train1)"
   ]
  },
  {
   "cell_type": "code",
   "execution_count": null,
   "id": "9331344f",
   "metadata": {},
   "outputs": [],
   "source": [
    "y_lin_pred = lin_reg.predict(X_test1)\n",
    "print(r2_score(y_test1,y_lin_pred))\n",
    "print(mean_squared_error(y_test1,y_lin_pred))\n",
    "print(mean_absolute_error(y_test1,y_lin_pred))"
   ]
  },
  {
   "cell_type": "code",
   "execution_count": null,
   "id": "389bc614",
   "metadata": {},
   "outputs": [],
   "source": []
  },
  {
   "cell_type": "markdown",
   "id": "b23dd5db",
   "metadata": {},
   "source": [
    "*Ridge regressor with hyperparameter tuning*"
   ]
  },
  {
   "cell_type": "code",
   "execution_count": null,
   "id": "e50fc82f",
   "metadata": {},
   "outputs": [],
   "source": [
    "from sklearn.model_selection import GridSearchCV"
   ]
  },
  {
   "cell_type": "code",
   "execution_count": null,
   "id": "aa42ae37",
   "metadata": {},
   "outputs": [],
   "source": [
    "grid_params ={\n",
    "    \"alpha\":[0.1,0.001,0.25,0.5,0.005],\n",
    "    \"solver\":[\"auto\",\"svd\",\"cholesky\",\"lsqr\",\"sparse_cg\",\"sag\",\"saga\"]\n",
    "}\n"
   ]
  },
  {
   "cell_type": "code",
   "execution_count": null,
   "id": "17df7d1d",
   "metadata": {},
   "outputs": [],
   "source": [
    "ridge_model = Ridge()\n",
    "grid_ridge = GridSearchCV(ridge_model,param_grid=grid_params,scoring=\"neg_mean_squared_error\",cv=10,verbose=2)\n",
    "grid_ridge.fit(X_train1,y_train1)"
   ]
  },
  {
   "cell_type": "code",
   "execution_count": null,
   "id": "20228273",
   "metadata": {},
   "outputs": [],
   "source": [
    "y_lin_pred = grid_ridge.predict(X_test1)\n",
    "print(r2_score(y_test1,y_lin_pred))\n",
    "print(mean_squared_error(y_test1,y_lin_pred))\n",
    "print(mean_absolute_error(y_test1,y_lin_pred))"
   ]
  },
  {
   "cell_type": "markdown",
   "id": "8ee320db",
   "metadata": {},
   "source": [
    "*Random forest regressor*"
   ]
  },
  {
   "cell_type": "code",
   "execution_count": null,
   "id": "fd50ea74",
   "metadata": {},
   "outputs": [],
   "source": [
    "rf_reg = RandomForestRegressor()\n",
    "rf_reg.fit(X_train1,y_train1)\n",
    "y_rf_pred = rf_reg.predict(X_test1)\n",
    "print(r2_score(y_test1,y_rf_pred))\n",
    "print(mean_squared_error(y_test1,y_rf_pred))\n",
    "print(mean_absolute_error(y_test1,y_rf_pred))"
   ]
  },
  {
   "cell_type": "markdown",
   "id": "aae8f1c5",
   "metadata": {},
   "source": [
    "*Hyperparameter tuning for Random Forest Regressor*"
   ]
  },
  {
   "cell_type": "code",
   "execution_count": null,
   "id": "46dc4400",
   "metadata": {},
   "outputs": [],
   "source": [
    "grid_params = {\n",
    "    \"n_estimators\":[100],\n",
    "     \"criterion\":[\"mse\",\"mae\"],\n",
    "    \"max_depth\": [2,5,10],\n",
    "    \"min_samples_split\" : [2,5,10],\n",
    "    \"min_samples_leaf\": [2,5,10]\n",
    "}"
   ]
  },
  {
   "cell_type": "code",
   "execution_count": null,
   "id": "12a20703",
   "metadata": {},
   "outputs": [],
   "source": [
    "grid_rf = GridSearchCV(rf_reg,param_grid=grid_params,verbose=2,cv=10,scoring=\"neg_median_absolute_error\")\n",
    "grid_rf.fit(X_train1,y_train1)"
   ]
  },
  {
   "cell_type": "code",
   "execution_count": null,
   "id": "8ec0fb5f",
   "metadata": {},
   "outputs": [],
   "source": [
    "grid_rf.best_params_"
   ]
  },
  {
   "cell_type": "code",
   "execution_count": null,
   "id": "030a0e60",
   "metadata": {},
   "outputs": [],
   "source": [
    "y_rf_pred = grid_rf.predict(X_test1)\n",
    "print(r2_score(y_test1,y_rf_pred))\n",
    "print(mean_squared_error(y_test1,y_rf_pred))\n",
    "print(mean_absolute_error(y_test1,y_rf_pred))"
   ]
  },
  {
   "cell_type": "markdown",
   "id": "17fc4b96",
   "metadata": {},
   "source": [
    "*Decision Tree Regressor*"
   ]
  },
  {
   "cell_type": "code",
   "execution_count": null,
   "id": "553bb232",
   "metadata": {},
   "outputs": [],
   "source": [
    "dt_reg.fit(X_train1,y_train1)\n",
    "y_dt_pred = dt_reg.predict(X_test1)\n",
    "print(r2_score(y_test1,y_dt_pred))\n",
    "print(mean_squared_error(y_test1,y_dt_pred))\n",
    "print(mean_absolute_error(y_test1,y_dt_pred))"
   ]
  },
  {
   "cell_type": "markdown",
   "id": "a0a44c65",
   "metadata": {},
   "source": [
    "*Hyperparameter tuning for Decision Tree Regressor*"
   ]
  },
  {
   "cell_type": "code",
   "execution_count": null,
   "id": "969ec3b7",
   "metadata": {},
   "outputs": [],
   "source": [
    "from sklearn.model_selection import GridSearchCV\n",
    "grid_params = {\n",
    "    \"criterion\":[\"mse\",\"mae\",\"friedman_mse\"],\n",
    "    \"max_depth\": [2,5,10],\n",
    "    \"min_samples_split\" : [2,5],\n",
    "    \"min_samples_leaf\": [2,5]\n",
    "}\n",
    "grid_dt = GridSearchCV(dt_reg,param_grid=grid_params,scoring=\"neg_mean_squared_error\",\n",
    "                       cv=10,verbose=2)\n",
    "grid_dt.fit(X_train1,y_train1)\n"
   ]
  },
  {
   "cell_type": "code",
   "execution_count": null,
   "id": "f0b6a219",
   "metadata": {},
   "outputs": [],
   "source": [
    "grid_dt.best_params_"
   ]
  },
  {
   "cell_type": "code",
   "execution_count": null,
   "id": "f9f11f8d",
   "metadata": {},
   "outputs": [],
   "source": [
    "y_dt_pred = grid_dt.predict(X_test1)\n",
    "print(r2_score(y_test1,y_dt_pred))\n",
    "print(mean_squared_error(y_test1,y_dt_pred))\n",
    "print(mean_absolute_error(y_test1,y_dt_pred))"
   ]
  },
  {
   "cell_type": "markdown",
   "id": "5c6585ec",
   "metadata": {},
   "source": [
    "*Use XGBoosting Ensemble technique as well for model creation with hyperparameter tuning*"
   ]
  },
  {
   "cell_type": "code",
   "execution_count": null,
   "id": "b7abd4d3",
   "metadata": {},
   "outputs": [],
   "source": [
    "import xgboost as xgb"
   ]
  },
  {
   "cell_type": "code",
   "execution_count": null,
   "id": "66910c72",
   "metadata": {},
   "outputs": [],
   "source": [
    "xg_reg = xgb.XGBRegressor(colsample_bytree = 0.3, learning_rate = 0.1,\n",
    "                max_depth = 5, alpha = 10, n_estimators = 10,booster=\"gbtree\")\n",
    "xg_reg.fit(X_train1,y_train1)"
   ]
  },
  {
   "cell_type": "code",
   "execution_count": null,
   "id": "e95f03da",
   "metadata": {},
   "outputs": [],
   "source": [
    "y_xg_pred = xg_reg.predict(X_test1)\n",
    "print(r2_score(y_test1,y_xg_pred))\n",
    "print(mean_squared_error(y_test1,y_xg_pred))\n",
    "print(mean_absolute_error(y_test1,y_xg_pred))"
   ]
  },
  {
   "cell_type": "markdown",
   "id": "a57ea99a",
   "metadata": {},
   "source": [
    "*SVR Regressor with hyperparameter tuning*"
   ]
  },
  {
   "cell_type": "code",
   "execution_count": null,
   "id": "9bd239b5",
   "metadata": {},
   "outputs": [],
   "source": [
    "from sklearn.svm import SVR\n",
    "grid_params ={\n",
    "    \"kernel\":[\"rbf\",\"linear\",\"poly\"], \n",
    "    \"degree\":[3],\n",
    "    \"C\":[1,2,5,10,50,100], \n",
    "    \"epsilon\":[0.1]\n",
    "    \n",
    "}\n",
    "svr_model = SVR()\n",
    "grid_svr = GridSearchCV(svr_model,param_grid=grid_params,scoring=\"neg_mean_squared_error\",cv=10,\n",
    "                        verbose=2)\n",
    "grid_svr.fit(X_train1,y_train1)"
   ]
  },
  {
   "cell_type": "code",
   "execution_count": null,
   "id": "a13fe67d",
   "metadata": {},
   "outputs": [],
   "source": [
    "grid_svr.best_params_"
   ]
  },
  {
   "cell_type": "code",
   "execution_count": null,
   "id": "816f1e05",
   "metadata": {},
   "outputs": [],
   "source": [
    "y_svr_pred = grid_svr.predict(X_test1)\n",
    "print(r2_score(y_test1,y_svr_pred))\n",
    "print(mean_squared_error(y_test1,y_svr_pred))\n",
    "print(mean_absolute_error(y_test1,y_svr_pred))"
   ]
  },
  {
   "cell_type": "code",
   "execution_count": null,
   "id": "98222509",
   "metadata": {},
   "outputs": [],
   "source": [
    "sns.distplot(y_test1-y_xg_pred)"
   ]
  },
  {
   "cell_type": "code",
   "execution_count": null,
   "id": "cf7c4d6e",
   "metadata": {},
   "outputs": [],
   "source": [
    "plt.figure(figsize=(10,10))\n",
    "plt.hist([y_test1,y_xg_pred],bins=50,label=[\"target\",\"target_pred_xg\"],histtype=\"bar\")\n",
    "plt.legend(loc='upper right')"
   ]
  },
  {
   "cell_type": "code",
   "execution_count": null,
   "id": "5087b76d",
   "metadata": {},
   "outputs": [],
   "source": [
    "sns.distplot(y_test1-y_rf_pred)"
   ]
  },
  {
   "cell_type": "code",
   "execution_count": null,
   "id": "17b30a0b",
   "metadata": {},
   "outputs": [],
   "source": [
    "sns.distplot(y_test1-y_dt_pred)"
   ]
  },
  {
   "cell_type": "code",
   "execution_count": null,
   "id": "abe0bf32",
   "metadata": {},
   "outputs": [],
   "source": [
    "sns.distplot(y_test1-y_lin_pred)"
   ]
  },
  {
   "cell_type": "code",
   "execution_count": null,
   "id": "eeff1faf",
   "metadata": {},
   "outputs": [],
   "source": [
    "plt.figure(figsize=(10,10))\n",
    "plt.hist([y_test1,y_lin_pred],bins=50,label=[\"target\",\"target_pred_ridge\"],histtype=\"bar\")\n",
    "plt.legend(loc='upper right')"
   ]
  },
  {
   "cell_type": "code",
   "execution_count": null,
   "id": "26e13272",
   "metadata": {},
   "outputs": [],
   "source": [
    "import pickle\n",
    "file = open(\"rent_rf_grid_regressor_model.pkl\",\"wb\")\n",
    "pickle.dump(grid_rf,file)"
   ]
  },
  {
   "cell_type": "code",
   "execution_count": null,
   "id": "13b57158",
   "metadata": {},
   "outputs": [],
   "source": [
    "df.propertyage.value_counts()"
   ]
  },
  {
   "cell_type": "code",
   "execution_count": null,
   "id": "dd9a29b0",
   "metadata": {},
   "outputs": [],
   "source": []
  }
 ],
 "metadata": {
  "kernelspec": {
   "display_name": "Python 3",
   "language": "python",
   "name": "python3"
  },
  "language_info": {
   "codemirror_mode": {
    "name": "ipython",
    "version": 3
   },
   "file_extension": ".py",
   "mimetype": "text/x-python",
   "name": "python",
   "nbconvert_exporter": "python",
   "pygments_lexer": "ipython3",
   "version": "3.6.5"
  }
 },
 "nbformat": 4,
 "nbformat_minor": 5
}
